{
 "cells": [
  {
   "cell_type": "markdown",
   "metadata": {},
   "source": [
    "# Importando Bibliotecas"
   ]
  },
  {
   "cell_type": "code",
   "execution_count": 1,
   "metadata": {},
   "outputs": [],
   "source": [
    "import numpy as np\n",
    "import pandas as pd\n",
    "from sklearn.neural_network import MLPClassifier\n",
    "from sklearn import preprocessing\n",
    "from sklearn import metrics\n",
    "from sklearn.tree import DecisionTreeClassifier"
   ]
  },
  {
   "cell_type": "markdown",
   "metadata": {},
   "source": [
    "\n",
    "# Inicializando Dataframes"
   ]
  },
  {
   "cell_type": "code",
   "execution_count": 2,
   "metadata": {},
   "outputs": [
    {
     "data": {
      "text/plain": [
       "Index(['Unnamed: 0.1', 'Unnamed: 0', 'user_id', 'age', 'isbn', 'rating',\n",
       "       'book_title', 'book_author', 'year_of_publication', 'publisher',\n",
       "       'img_l', 'Language', 'Category', 'city', 'state', 'country'],\n",
       "      dtype='object')"
      ]
     },
     "execution_count": 2,
     "metadata": {},
     "output_type": "execute_result"
    }
   ],
   "source": [
    "df = pd.read_csv('exame_cmc13_dados_treinamento.csv', sep=';')\n",
    "df.columns"
   ]
  },
  {
   "cell_type": "markdown",
   "metadata": {},
   "source": [
    "# Tratando Dados"
   ]
  },
  {
   "cell_type": "markdown",
   "metadata": {},
   "source": [
    "Vemos campos que não são mencionados e que, provavelmente, se referem apenas a identificações internas dos livros: 'Unnamed: 0.1' e 'Unnamed: 0'. Vamos excluí-los."
   ]
  },
  {
   "cell_type": "code",
   "execution_count": 3,
   "metadata": {},
   "outputs": [],
   "source": [
    "df = df.drop(['Unnamed: 0.1', 'Unnamed: 0'], axis=1)"
   ]
  },
  {
   "cell_type": "markdown",
   "metadata": {},
   "source": [
    "Vamos começar a exluir colunas inúteis para a análise. Em um primeiro momento, podemos excluir as colunas de identificação do usuário:"
   ]
  },
  {
   "cell_type": "code",
   "execution_count": 4,
   "metadata": {},
   "outputs": [],
   "source": [
    "df = df.drop(['user_id'], axis=1)"
   ]
  },
  {
   "cell_type": "markdown",
   "metadata": {},
   "source": [
    "Agora, vamos filtrar as localidades. Para simplificar a análise, contaremos que leitores de um mesmo país têm gostos semelhantes, excluindo a necessidade de identificadores de cidades e estados. Isso também é permitido pelo fato de haver uma variedade de países:"
   ]
  },
  {
   "cell_type": "code",
   "execution_count": 5,
   "metadata": {},
   "outputs": [
    {
     "data": {
      "text/plain": [
       "usa                102798\n",
       "canada              12113\n",
       "united kingdom       2577\n",
       "australia            1631\n",
       "germany              1077\n",
       "                    ...  \n",
       "mozambique              1\n",
       "new jersey, usa         1\n",
       "ontario, canada         1\n",
       "iowa, usa               1\n",
       "haiti                   1\n",
       "Name: country, Length: 187, dtype: int64"
      ]
     },
     "execution_count": 5,
     "metadata": {},
     "output_type": "execute_result"
    }
   ],
   "source": [
    "df['country'].value_counts()"
   ]
  },
  {
   "cell_type": "markdown",
   "metadata": {},
   "source": [
    "Existem 116 países no dataset. Excluindo colunas referentes a localidades:"
   ]
  },
  {
   "cell_type": "code",
   "execution_count": 6,
   "metadata": {},
   "outputs": [],
   "source": [
    "df = df.drop(['city', 'state'], axis=1)"
   ]
  },
  {
   "cell_type": "markdown",
   "metadata": {},
   "source": [
    "Análise da linguagem dos livros:"
   ]
  },
  {
   "cell_type": "code",
   "execution_count": 7,
   "metadata": {},
   "outputs": [
    {
     "data": {
      "text/plain": [
       "en    87209\n",
       "9     43970\n",
       "Name: Language, dtype: int64"
      ]
     },
     "execution_count": 7,
     "metadata": {},
     "output_type": "execute_result"
    }
   ],
   "source": [
    "df['Language'].value_counts()"
   ]
  },
  {
   "cell_type": "markdown",
   "metadata": {},
   "source": [
    "Veja que apenas duas classificações foram categorizadas: en (inglês) e 9 (provavelmente um placeholder ou erro de obtenção de dados). Como a análise desses dois classificadores não nos fornece tanta informação, é razoável excluir tal coluna."
   ]
  },
  {
   "cell_type": "code",
   "execution_count": 8,
   "metadata": {},
   "outputs": [],
   "source": [
    "df = df.drop(['Language'], axis=1)"
   ]
  },
  {
   "cell_type": "markdown",
   "metadata": {},
   "source": [
    "Podemos excluir as colunas 'isbn' porque se refere a uma identificação do livro, redundante com o título, e 'img_l', pois, apesar de a capa certamente ser importante para a escolha de um livro, apenas o link da imagem não adiciona tanto à análise."
   ]
  },
  {
   "cell_type": "code",
   "execution_count": 9,
   "metadata": {},
   "outputs": [],
   "source": [
    "df = df.drop(['isbn', 'img_l'], axis=1)"
   ]
  },
  {
   "cell_type": "markdown",
   "metadata": {},
   "source": [
    "Veja que as colunas de idade e ano de publicação estão sendo tratadas como floats. Convertendo ambas para int:"
   ]
  },
  {
   "cell_type": "code",
   "execution_count": 10,
   "metadata": {},
   "outputs": [],
   "source": [
    "df['age'] = df['age'].astype(int)\n",
    "df['year_of_publication'] = df['year_of_publication'].astype(int)"
   ]
  },
  {
   "cell_type": "markdown",
   "metadata": {},
   "source": [
    "Entretanto, ainda devem existir colunas com valores nulos. Vamos contá-las:"
   ]
  },
  {
   "cell_type": "code",
   "execution_count": 11,
   "metadata": {},
   "outputs": [
    {
     "name": "stdout",
     "output_type": "stream",
     "text": [
      "<class 'pandas.core.frame.DataFrame'>\n",
      "RangeIndex: 131179 entries, 0 to 131178\n",
      "Data columns (total 8 columns):\n",
      " #   Column               Non-Null Count   Dtype \n",
      "---  ------               --------------   ----- \n",
      " 0   age                  131179 non-null  int32 \n",
      " 1   rating               131179 non-null  int64 \n",
      " 2   book_title           131179 non-null  object\n",
      " 3   book_author          131179 non-null  object\n",
      " 4   year_of_publication  131179 non-null  int32 \n",
      " 5   publisher            131179 non-null  object\n",
      " 6   Category             131179 non-null  object\n",
      " 7   country              126615 non-null  object\n",
      "dtypes: int32(2), int64(1), object(5)\n",
      "memory usage: 7.0+ MB\n"
     ]
    }
   ],
   "source": [
    "df.info()"
   ]
  },
  {
   "cell_type": "markdown",
   "metadata": {},
   "source": [
    "Veja que apenas 126615 linhas de 'country' tem valores não nulos, contra 131179 das outras colunas. Como são apenas 4564 de 130000 dados, representando aproximadamente 3% do dataset, podemos excluí-los sem grande perda:"
   ]
  },
  {
   "cell_type": "code",
   "execution_count": 12,
   "metadata": {},
   "outputs": [],
   "source": [
    "df = df.dropna()"
   ]
  },
  {
   "cell_type": "markdown",
   "metadata": {},
   "source": [
    "# Construção do modelo MLP"
   ]
  },
  {
   "cell_type": "code",
   "execution_count": 13,
   "metadata": {},
   "outputs": [],
   "source": [
    "X_train = df.drop(['rating'], axis = 1)\n",
    "Y_train = df['rating']"
   ]
  },
  {
   "cell_type": "code",
   "execution_count": 14,
   "metadata": {},
   "outputs": [
    {
     "data": {
      "text/html": [
       "<div>\n",
       "<style scoped>\n",
       "    .dataframe tbody tr th:only-of-type {\n",
       "        vertical-align: middle;\n",
       "    }\n",
       "\n",
       "    .dataframe tbody tr th {\n",
       "        vertical-align: top;\n",
       "    }\n",
       "\n",
       "    .dataframe thead th {\n",
       "        text-align: right;\n",
       "    }\n",
       "</style>\n",
       "<table border=\"1\" class=\"dataframe\">\n",
       "  <thead>\n",
       "    <tr style=\"text-align: right;\">\n",
       "      <th></th>\n",
       "      <th>age</th>\n",
       "      <th>book_title</th>\n",
       "      <th>book_author</th>\n",
       "      <th>year_of_publication</th>\n",
       "      <th>publisher</th>\n",
       "      <th>Category</th>\n",
       "      <th>country</th>\n",
       "    </tr>\n",
       "  </thead>\n",
       "  <tbody>\n",
       "    <tr>\n",
       "      <th>0</th>\n",
       "      <td>34</td>\n",
       "      <td>The Testament</td>\n",
       "      <td>John Grisham</td>\n",
       "      <td>1999</td>\n",
       "      <td>Dell</td>\n",
       "      <td>['Fiction']</td>\n",
       "      <td>usa</td>\n",
       "    </tr>\n",
       "    <tr>\n",
       "      <th>1</th>\n",
       "      <td>34</td>\n",
       "      <td>The Testament</td>\n",
       "      <td>John Grisham</td>\n",
       "      <td>1999</td>\n",
       "      <td>Dell</td>\n",
       "      <td>['Fiction']</td>\n",
       "      <td>usa</td>\n",
       "    </tr>\n",
       "    <tr>\n",
       "      <th>2</th>\n",
       "      <td>35</td>\n",
       "      <td>The Testament</td>\n",
       "      <td>John Grisham</td>\n",
       "      <td>1999</td>\n",
       "      <td>Dell</td>\n",
       "      <td>['Fiction']</td>\n",
       "      <td>usa</td>\n",
       "    </tr>\n",
       "    <tr>\n",
       "      <th>3</th>\n",
       "      <td>29</td>\n",
       "      <td>The Testament</td>\n",
       "      <td>John Grisham</td>\n",
       "      <td>1999</td>\n",
       "      <td>Dell</td>\n",
       "      <td>['Fiction']</td>\n",
       "      <td>usa</td>\n",
       "    </tr>\n",
       "    <tr>\n",
       "      <th>4</th>\n",
       "      <td>31</td>\n",
       "      <td>The Testament</td>\n",
       "      <td>John Grisham</td>\n",
       "      <td>1999</td>\n",
       "      <td>Dell</td>\n",
       "      <td>['Fiction']</td>\n",
       "      <td>usa</td>\n",
       "    </tr>\n",
       "    <tr>\n",
       "      <th>...</th>\n",
       "      <td>...</td>\n",
       "      <td>...</td>\n",
       "      <td>...</td>\n",
       "      <td>...</td>\n",
       "      <td>...</td>\n",
       "      <td>...</td>\n",
       "      <td>...</td>\n",
       "    </tr>\n",
       "    <tr>\n",
       "      <th>131174</th>\n",
       "      <td>25</td>\n",
       "      <td>SEAT OF THE SOUL</td>\n",
       "      <td>Gary Zukav</td>\n",
       "      <td>1990</td>\n",
       "      <td>Free Press</td>\n",
       "      <td>['Body, Mind &amp; Spirit']</td>\n",
       "      <td>usa</td>\n",
       "    </tr>\n",
       "    <tr>\n",
       "      <th>131175</th>\n",
       "      <td>62</td>\n",
       "      <td>SEAT OF THE SOUL</td>\n",
       "      <td>Gary Zukav</td>\n",
       "      <td>1990</td>\n",
       "      <td>Free Press</td>\n",
       "      <td>['Body, Mind &amp; Spirit']</td>\n",
       "      <td>usa</td>\n",
       "    </tr>\n",
       "    <tr>\n",
       "      <th>131176</th>\n",
       "      <td>53</td>\n",
       "      <td>SEAT OF THE SOUL</td>\n",
       "      <td>Gary Zukav</td>\n",
       "      <td>1990</td>\n",
       "      <td>Free Press</td>\n",
       "      <td>['Body, Mind &amp; Spirit']</td>\n",
       "      <td>usa</td>\n",
       "    </tr>\n",
       "    <tr>\n",
       "      <th>131177</th>\n",
       "      <td>37</td>\n",
       "      <td>SEAT OF THE SOUL</td>\n",
       "      <td>Gary Zukav</td>\n",
       "      <td>1990</td>\n",
       "      <td>Free Press</td>\n",
       "      <td>['Body, Mind &amp; Spirit']</td>\n",
       "      <td>usa</td>\n",
       "    </tr>\n",
       "    <tr>\n",
       "      <th>131178</th>\n",
       "      <td>34</td>\n",
       "      <td>SEAT OF THE SOUL</td>\n",
       "      <td>Gary Zukav</td>\n",
       "      <td>1990</td>\n",
       "      <td>Free Press</td>\n",
       "      <td>['Body, Mind &amp; Spirit']</td>\n",
       "      <td>usa</td>\n",
       "    </tr>\n",
       "  </tbody>\n",
       "</table>\n",
       "<p>126615 rows × 7 columns</p>\n",
       "</div>"
      ],
      "text/plain": [
       "        age        book_title   book_author  year_of_publication   publisher  \\\n",
       "0        34     The Testament  John Grisham                 1999        Dell   \n",
       "1        34     The Testament  John Grisham                 1999        Dell   \n",
       "2        35     The Testament  John Grisham                 1999        Dell   \n",
       "3        29     The Testament  John Grisham                 1999        Dell   \n",
       "4        31     The Testament  John Grisham                 1999        Dell   \n",
       "...     ...               ...           ...                  ...         ...   \n",
       "131174   25  SEAT OF THE SOUL    Gary Zukav                 1990  Free Press   \n",
       "131175   62  SEAT OF THE SOUL    Gary Zukav                 1990  Free Press   \n",
       "131176   53  SEAT OF THE SOUL    Gary Zukav                 1990  Free Press   \n",
       "131177   37  SEAT OF THE SOUL    Gary Zukav                 1990  Free Press   \n",
       "131178   34  SEAT OF THE SOUL    Gary Zukav                 1990  Free Press   \n",
       "\n",
       "                       Category country  \n",
       "0                   ['Fiction']     usa  \n",
       "1                   ['Fiction']     usa  \n",
       "2                   ['Fiction']     usa  \n",
       "3                   ['Fiction']     usa  \n",
       "4                   ['Fiction']     usa  \n",
       "...                         ...     ...  \n",
       "131174  ['Body, Mind & Spirit']     usa  \n",
       "131175  ['Body, Mind & Spirit']     usa  \n",
       "131176  ['Body, Mind & Spirit']     usa  \n",
       "131177  ['Body, Mind & Spirit']     usa  \n",
       "131178  ['Body, Mind & Spirit']     usa  \n",
       "\n",
       "[126615 rows x 7 columns]"
      ]
     },
     "execution_count": 14,
     "metadata": {},
     "output_type": "execute_result"
    }
   ],
   "source": [
    "X_train"
   ]
  },
  {
   "cell_type": "code",
   "execution_count": 15,
   "metadata": {},
   "outputs": [
    {
     "data": {
      "text/plain": [
       "<PandasArray>\n",
       "[                'age',          'book_title',         'book_author',\n",
       " 'year_of_publication',           'publisher',            'Category',\n",
       "             'country']\n",
       "Length: 7, dtype: object"
      ]
     },
     "execution_count": 15,
     "metadata": {},
     "output_type": "execute_result"
    }
   ],
   "source": [
    "X_train.columns.array"
   ]
  },
  {
   "cell_type": "code",
   "execution_count": 16,
   "metadata": {},
   "outputs": [],
   "source": [
    "for column_name in X_train.columns:\n",
    "    if X_train[column_name].dtype == object:\n",
    "        X_train = pd.get_dummies(X_train, columns=[column_name])\n",
    "    else:\n",
    "        pass\n",
    "# X_train = pd.get_dummies(X_train, columns = ['book_title', 'book_author', 'publisher', 'Category', 'country'])"
   ]
  },
  {
   "cell_type": "code",
   "execution_count": 17,
   "metadata": {},
   "outputs": [
    {
     "data": {
      "text/html": [
       "<div>\n",
       "<style scoped>\n",
       "    .dataframe tbody tr th:only-of-type {\n",
       "        vertical-align: middle;\n",
       "    }\n",
       "\n",
       "    .dataframe tbody tr th {\n",
       "        vertical-align: top;\n",
       "    }\n",
       "\n",
       "    .dataframe thead th {\n",
       "        text-align: right;\n",
       "    }\n",
       "</style>\n",
       "<table border=\"1\" class=\"dataframe\">\n",
       "  <thead>\n",
       "    <tr style=\"text-align: right;\">\n",
       "      <th></th>\n",
       "      <th>age</th>\n",
       "      <th>year_of_publication</th>\n",
       "      <th>book_title_1984</th>\n",
       "      <th>book_title_1st to Die: A Novel</th>\n",
       "      <th>book_title_2nd Chance</th>\n",
       "      <th>book_title_4 Blondes</th>\n",
       "      <th>book_title_A Beautiful Mind: The Life of Mathematical Genius and Nobel Laureate John Nash</th>\n",
       "      <th>book_title_A Bend in the Road</th>\n",
       "      <th>book_title_A Case of Need</th>\n",
       "      <th>book_title_A Child Called \\It\\\": One Child's Courage to Survive\"</th>\n",
       "      <th>...</th>\n",
       "      <th>country_wales</th>\n",
       "      <th>country_washington, usa</th>\n",
       "      <th>country_west indies, tobago</th>\n",
       "      <th>country_west yorkshire, united kingdom</th>\n",
       "      <th>country_worcester</th>\n",
       "      <th>country_ysa</th>\n",
       "      <th>country_yu-song, guam-dong, 626-1, 302, south korea</th>\n",
       "      <th>country_yugoslavia</th>\n",
       "      <th>country_zambia</th>\n",
       "      <th>country_zimbabwe</th>\n",
       "    </tr>\n",
       "  </thead>\n",
       "  <tbody>\n",
       "    <tr>\n",
       "      <th>0</th>\n",
       "      <td>34</td>\n",
       "      <td>1999</td>\n",
       "      <td>0</td>\n",
       "      <td>0</td>\n",
       "      <td>0</td>\n",
       "      <td>0</td>\n",
       "      <td>0</td>\n",
       "      <td>0</td>\n",
       "      <td>0</td>\n",
       "      <td>0</td>\n",
       "      <td>...</td>\n",
       "      <td>0</td>\n",
       "      <td>0</td>\n",
       "      <td>0</td>\n",
       "      <td>0</td>\n",
       "      <td>0</td>\n",
       "      <td>0</td>\n",
       "      <td>0</td>\n",
       "      <td>0</td>\n",
       "      <td>0</td>\n",
       "      <td>0</td>\n",
       "    </tr>\n",
       "    <tr>\n",
       "      <th>1</th>\n",
       "      <td>34</td>\n",
       "      <td>1999</td>\n",
       "      <td>0</td>\n",
       "      <td>0</td>\n",
       "      <td>0</td>\n",
       "      <td>0</td>\n",
       "      <td>0</td>\n",
       "      <td>0</td>\n",
       "      <td>0</td>\n",
       "      <td>0</td>\n",
       "      <td>...</td>\n",
       "      <td>0</td>\n",
       "      <td>0</td>\n",
       "      <td>0</td>\n",
       "      <td>0</td>\n",
       "      <td>0</td>\n",
       "      <td>0</td>\n",
       "      <td>0</td>\n",
       "      <td>0</td>\n",
       "      <td>0</td>\n",
       "      <td>0</td>\n",
       "    </tr>\n",
       "    <tr>\n",
       "      <th>2</th>\n",
       "      <td>35</td>\n",
       "      <td>1999</td>\n",
       "      <td>0</td>\n",
       "      <td>0</td>\n",
       "      <td>0</td>\n",
       "      <td>0</td>\n",
       "      <td>0</td>\n",
       "      <td>0</td>\n",
       "      <td>0</td>\n",
       "      <td>0</td>\n",
       "      <td>...</td>\n",
       "      <td>0</td>\n",
       "      <td>0</td>\n",
       "      <td>0</td>\n",
       "      <td>0</td>\n",
       "      <td>0</td>\n",
       "      <td>0</td>\n",
       "      <td>0</td>\n",
       "      <td>0</td>\n",
       "      <td>0</td>\n",
       "      <td>0</td>\n",
       "    </tr>\n",
       "    <tr>\n",
       "      <th>3</th>\n",
       "      <td>29</td>\n",
       "      <td>1999</td>\n",
       "      <td>0</td>\n",
       "      <td>0</td>\n",
       "      <td>0</td>\n",
       "      <td>0</td>\n",
       "      <td>0</td>\n",
       "      <td>0</td>\n",
       "      <td>0</td>\n",
       "      <td>0</td>\n",
       "      <td>...</td>\n",
       "      <td>0</td>\n",
       "      <td>0</td>\n",
       "      <td>0</td>\n",
       "      <td>0</td>\n",
       "      <td>0</td>\n",
       "      <td>0</td>\n",
       "      <td>0</td>\n",
       "      <td>0</td>\n",
       "      <td>0</td>\n",
       "      <td>0</td>\n",
       "    </tr>\n",
       "    <tr>\n",
       "      <th>4</th>\n",
       "      <td>31</td>\n",
       "      <td>1999</td>\n",
       "      <td>0</td>\n",
       "      <td>0</td>\n",
       "      <td>0</td>\n",
       "      <td>0</td>\n",
       "      <td>0</td>\n",
       "      <td>0</td>\n",
       "      <td>0</td>\n",
       "      <td>0</td>\n",
       "      <td>...</td>\n",
       "      <td>0</td>\n",
       "      <td>0</td>\n",
       "      <td>0</td>\n",
       "      <td>0</td>\n",
       "      <td>0</td>\n",
       "      <td>0</td>\n",
       "      <td>0</td>\n",
       "      <td>0</td>\n",
       "      <td>0</td>\n",
       "      <td>0</td>\n",
       "    </tr>\n",
       "    <tr>\n",
       "      <th>...</th>\n",
       "      <td>...</td>\n",
       "      <td>...</td>\n",
       "      <td>...</td>\n",
       "      <td>...</td>\n",
       "      <td>...</td>\n",
       "      <td>...</td>\n",
       "      <td>...</td>\n",
       "      <td>...</td>\n",
       "      <td>...</td>\n",
       "      <td>...</td>\n",
       "      <td>...</td>\n",
       "      <td>...</td>\n",
       "      <td>...</td>\n",
       "      <td>...</td>\n",
       "      <td>...</td>\n",
       "      <td>...</td>\n",
       "      <td>...</td>\n",
       "      <td>...</td>\n",
       "      <td>...</td>\n",
       "      <td>...</td>\n",
       "      <td>...</td>\n",
       "    </tr>\n",
       "    <tr>\n",
       "      <th>131174</th>\n",
       "      <td>25</td>\n",
       "      <td>1990</td>\n",
       "      <td>0</td>\n",
       "      <td>0</td>\n",
       "      <td>0</td>\n",
       "      <td>0</td>\n",
       "      <td>0</td>\n",
       "      <td>0</td>\n",
       "      <td>0</td>\n",
       "      <td>0</td>\n",
       "      <td>...</td>\n",
       "      <td>0</td>\n",
       "      <td>0</td>\n",
       "      <td>0</td>\n",
       "      <td>0</td>\n",
       "      <td>0</td>\n",
       "      <td>0</td>\n",
       "      <td>0</td>\n",
       "      <td>0</td>\n",
       "      <td>0</td>\n",
       "      <td>0</td>\n",
       "    </tr>\n",
       "    <tr>\n",
       "      <th>131175</th>\n",
       "      <td>62</td>\n",
       "      <td>1990</td>\n",
       "      <td>0</td>\n",
       "      <td>0</td>\n",
       "      <td>0</td>\n",
       "      <td>0</td>\n",
       "      <td>0</td>\n",
       "      <td>0</td>\n",
       "      <td>0</td>\n",
       "      <td>0</td>\n",
       "      <td>...</td>\n",
       "      <td>0</td>\n",
       "      <td>0</td>\n",
       "      <td>0</td>\n",
       "      <td>0</td>\n",
       "      <td>0</td>\n",
       "      <td>0</td>\n",
       "      <td>0</td>\n",
       "      <td>0</td>\n",
       "      <td>0</td>\n",
       "      <td>0</td>\n",
       "    </tr>\n",
       "    <tr>\n",
       "      <th>131176</th>\n",
       "      <td>53</td>\n",
       "      <td>1990</td>\n",
       "      <td>0</td>\n",
       "      <td>0</td>\n",
       "      <td>0</td>\n",
       "      <td>0</td>\n",
       "      <td>0</td>\n",
       "      <td>0</td>\n",
       "      <td>0</td>\n",
       "      <td>0</td>\n",
       "      <td>...</td>\n",
       "      <td>0</td>\n",
       "      <td>0</td>\n",
       "      <td>0</td>\n",
       "      <td>0</td>\n",
       "      <td>0</td>\n",
       "      <td>0</td>\n",
       "      <td>0</td>\n",
       "      <td>0</td>\n",
       "      <td>0</td>\n",
       "      <td>0</td>\n",
       "    </tr>\n",
       "    <tr>\n",
       "      <th>131177</th>\n",
       "      <td>37</td>\n",
       "      <td>1990</td>\n",
       "      <td>0</td>\n",
       "      <td>0</td>\n",
       "      <td>0</td>\n",
       "      <td>0</td>\n",
       "      <td>0</td>\n",
       "      <td>0</td>\n",
       "      <td>0</td>\n",
       "      <td>0</td>\n",
       "      <td>...</td>\n",
       "      <td>0</td>\n",
       "      <td>0</td>\n",
       "      <td>0</td>\n",
       "      <td>0</td>\n",
       "      <td>0</td>\n",
       "      <td>0</td>\n",
       "      <td>0</td>\n",
       "      <td>0</td>\n",
       "      <td>0</td>\n",
       "      <td>0</td>\n",
       "    </tr>\n",
       "    <tr>\n",
       "      <th>131178</th>\n",
       "      <td>34</td>\n",
       "      <td>1990</td>\n",
       "      <td>0</td>\n",
       "      <td>0</td>\n",
       "      <td>0</td>\n",
       "      <td>0</td>\n",
       "      <td>0</td>\n",
       "      <td>0</td>\n",
       "      <td>0</td>\n",
       "      <td>0</td>\n",
       "      <td>...</td>\n",
       "      <td>0</td>\n",
       "      <td>0</td>\n",
       "      <td>0</td>\n",
       "      <td>0</td>\n",
       "      <td>0</td>\n",
       "      <td>0</td>\n",
       "      <td>0</td>\n",
       "      <td>0</td>\n",
       "      <td>0</td>\n",
       "      <td>0</td>\n",
       "    </tr>\n",
       "  </tbody>\n",
       "</table>\n",
       "<p>126615 rows × 1764 columns</p>\n",
       "</div>"
      ],
      "text/plain": [
       "        age  year_of_publication  book_title_1984  \\\n",
       "0        34                 1999                0   \n",
       "1        34                 1999                0   \n",
       "2        35                 1999                0   \n",
       "3        29                 1999                0   \n",
       "4        31                 1999                0   \n",
       "...     ...                  ...              ...   \n",
       "131174   25                 1990                0   \n",
       "131175   62                 1990                0   \n",
       "131176   53                 1990                0   \n",
       "131177   37                 1990                0   \n",
       "131178   34                 1990                0   \n",
       "\n",
       "        book_title_1st to Die: A Novel  book_title_2nd Chance  \\\n",
       "0                                    0                      0   \n",
       "1                                    0                      0   \n",
       "2                                    0                      0   \n",
       "3                                    0                      0   \n",
       "4                                    0                      0   \n",
       "...                                ...                    ...   \n",
       "131174                               0                      0   \n",
       "131175                               0                      0   \n",
       "131176                               0                      0   \n",
       "131177                               0                      0   \n",
       "131178                               0                      0   \n",
       "\n",
       "        book_title_4 Blondes  \\\n",
       "0                          0   \n",
       "1                          0   \n",
       "2                          0   \n",
       "3                          0   \n",
       "4                          0   \n",
       "...                      ...   \n",
       "131174                     0   \n",
       "131175                     0   \n",
       "131176                     0   \n",
       "131177                     0   \n",
       "131178                     0   \n",
       "\n",
       "        book_title_A Beautiful Mind: The Life of Mathematical Genius and Nobel Laureate John Nash  \\\n",
       "0                                                       0                                           \n",
       "1                                                       0                                           \n",
       "2                                                       0                                           \n",
       "3                                                       0                                           \n",
       "4                                                       0                                           \n",
       "...                                                   ...                                           \n",
       "131174                                                  0                                           \n",
       "131175                                                  0                                           \n",
       "131176                                                  0                                           \n",
       "131177                                                  0                                           \n",
       "131178                                                  0                                           \n",
       "\n",
       "        book_title_A Bend in the Road  book_title_A Case of Need  \\\n",
       "0                                   0                          0   \n",
       "1                                   0                          0   \n",
       "2                                   0                          0   \n",
       "3                                   0                          0   \n",
       "4                                   0                          0   \n",
       "...                               ...                        ...   \n",
       "131174                              0                          0   \n",
       "131175                              0                          0   \n",
       "131176                              0                          0   \n",
       "131177                              0                          0   \n",
       "131178                              0                          0   \n",
       "\n",
       "        book_title_A Child Called \\It\\\": One Child's Courage to Survive\"  ...  \\\n",
       "0                                                       0                 ...   \n",
       "1                                                       0                 ...   \n",
       "2                                                       0                 ...   \n",
       "3                                                       0                 ...   \n",
       "4                                                       0                 ...   \n",
       "...                                                   ...                 ...   \n",
       "131174                                                  0                 ...   \n",
       "131175                                                  0                 ...   \n",
       "131176                                                  0                 ...   \n",
       "131177                                                  0                 ...   \n",
       "131178                                                  0                 ...   \n",
       "\n",
       "        country_wales  country_washington, usa  country_west indies, tobago  \\\n",
       "0                   0                        0                            0   \n",
       "1                   0                        0                            0   \n",
       "2                   0                        0                            0   \n",
       "3                   0                        0                            0   \n",
       "4                   0                        0                            0   \n",
       "...               ...                      ...                          ...   \n",
       "131174              0                        0                            0   \n",
       "131175              0                        0                            0   \n",
       "131176              0                        0                            0   \n",
       "131177              0                        0                            0   \n",
       "131178              0                        0                            0   \n",
       "\n",
       "        country_west yorkshire, united kingdom  country_worcester  \\\n",
       "0                                            0                  0   \n",
       "1                                            0                  0   \n",
       "2                                            0                  0   \n",
       "3                                            0                  0   \n",
       "4                                            0                  0   \n",
       "...                                        ...                ...   \n",
       "131174                                       0                  0   \n",
       "131175                                       0                  0   \n",
       "131176                                       0                  0   \n",
       "131177                                       0                  0   \n",
       "131178                                       0                  0   \n",
       "\n",
       "        country_ysa  country_yu-song, guam-dong, 626-1, 302, south korea  \\\n",
       "0                 0                                                  0     \n",
       "1                 0                                                  0     \n",
       "2                 0                                                  0     \n",
       "3                 0                                                  0     \n",
       "4                 0                                                  0     \n",
       "...             ...                                                ...     \n",
       "131174            0                                                  0     \n",
       "131175            0                                                  0     \n",
       "131176            0                                                  0     \n",
       "131177            0                                                  0     \n",
       "131178            0                                                  0     \n",
       "\n",
       "        country_yugoslavia  country_zambia  country_zimbabwe  \n",
       "0                        0               0                 0  \n",
       "1                        0               0                 0  \n",
       "2                        0               0                 0  \n",
       "3                        0               0                 0  \n",
       "4                        0               0                 0  \n",
       "...                    ...             ...               ...  \n",
       "131174                   0               0                 0  \n",
       "131175                   0               0                 0  \n",
       "131176                   0               0                 0  \n",
       "131177                   0               0                 0  \n",
       "131178                   0               0                 0  \n",
       "\n",
       "[126615 rows x 1764 columns]"
      ]
     },
     "execution_count": 17,
     "metadata": {},
     "output_type": "execute_result"
    }
   ],
   "source": [
    "X_train"
   ]
  },
  {
   "cell_type": "markdown",
   "metadata": {},
   "source": [
    "Carregando os dados de teste:"
   ]
  },
  {
   "cell_type": "code",
   "execution_count": 18,
   "metadata": {},
   "outputs": [],
   "source": [
    "df_test = pd.read_csv('exame_cmc13_dados_teste.csv', sep=';')"
   ]
  },
  {
   "cell_type": "markdown",
   "metadata": {},
   "source": [
    "Aplicando o mesmo tratamento feito aos dados de treino:"
   ]
  },
  {
   "cell_type": "code",
   "execution_count": 19,
   "metadata": {},
   "outputs": [],
   "source": [
    "df_test = df_test.drop(['Unnamed: 0.1', 'Unnamed: 0', 'user_id', 'city', 'state', 'Language', 'isbn', 'img_l'], axis=1)\n",
    "df_test['age'] = df_test['age'].astype(int)\n",
    "df_test['year_of_publication'] = df_test['year_of_publication'].astype(int)\n",
    "\n",
    "X_test = df_test.drop(['rating'], axis = 1)\n",
    "Y_test = df_test['rating']\n",
    "\n",
    "for column_name in X_test.columns:\n",
    "    if X_test[column_name].dtype == object:\n",
    "        X_test = pd.get_dummies(X_test, columns=[column_name])\n",
    "    else:\n",
    "        pass"
   ]
  },
  {
   "cell_type": "code",
   "execution_count": 20,
   "metadata": {},
   "outputs": [
    {
     "data": {
      "text/html": [
       "<div>\n",
       "<style scoped>\n",
       "    .dataframe tbody tr th:only-of-type {\n",
       "        vertical-align: middle;\n",
       "    }\n",
       "\n",
       "    .dataframe tbody tr th {\n",
       "        vertical-align: top;\n",
       "    }\n",
       "\n",
       "    .dataframe thead th {\n",
       "        text-align: right;\n",
       "    }\n",
       "</style>\n",
       "<table border=\"1\" class=\"dataframe\">\n",
       "  <thead>\n",
       "    <tr style=\"text-align: right;\">\n",
       "      <th></th>\n",
       "      <th>age</th>\n",
       "      <th>year_of_publication</th>\n",
       "      <th>book_title_1984</th>\n",
       "      <th>book_title_1st to Die: A Novel</th>\n",
       "      <th>book_title_2nd Chance</th>\n",
       "      <th>book_title_4 Blondes</th>\n",
       "      <th>book_title_A Beautiful Mind: The Life of Mathematical Genius and Nobel Laureate John Nash</th>\n",
       "      <th>book_title_A Bend in the Road</th>\n",
       "      <th>book_title_A Case of Need</th>\n",
       "      <th>book_title_A Child Called \\It\\\": One Child's Courage to Survive\"</th>\n",
       "      <th>...</th>\n",
       "      <th>country_united kingdom</th>\n",
       "      <th>country_united state</th>\n",
       "      <th>country_united states</th>\n",
       "      <th>country_universe</th>\n",
       "      <th>country_us</th>\n",
       "      <th>country_usa</th>\n",
       "      <th>country_van wert</th>\n",
       "      <th>country_venezuela</th>\n",
       "      <th>country_virginia, usa</th>\n",
       "      <th>country_zapopan, mexico</th>\n",
       "    </tr>\n",
       "  </thead>\n",
       "  <tbody>\n",
       "    <tr>\n",
       "      <th>0</th>\n",
       "      <td>35</td>\n",
       "      <td>2002</td>\n",
       "      <td>0</td>\n",
       "      <td>0</td>\n",
       "      <td>0</td>\n",
       "      <td>0</td>\n",
       "      <td>0</td>\n",
       "      <td>0</td>\n",
       "      <td>0</td>\n",
       "      <td>0</td>\n",
       "      <td>...</td>\n",
       "      <td>0</td>\n",
       "      <td>0</td>\n",
       "      <td>0</td>\n",
       "      <td>0</td>\n",
       "      <td>0</td>\n",
       "      <td>1</td>\n",
       "      <td>0</td>\n",
       "      <td>0</td>\n",
       "      <td>0</td>\n",
       "      <td>0</td>\n",
       "    </tr>\n",
       "    <tr>\n",
       "      <th>1</th>\n",
       "      <td>34</td>\n",
       "      <td>2002</td>\n",
       "      <td>0</td>\n",
       "      <td>0</td>\n",
       "      <td>0</td>\n",
       "      <td>0</td>\n",
       "      <td>0</td>\n",
       "      <td>0</td>\n",
       "      <td>0</td>\n",
       "      <td>0</td>\n",
       "      <td>...</td>\n",
       "      <td>0</td>\n",
       "      <td>0</td>\n",
       "      <td>0</td>\n",
       "      <td>0</td>\n",
       "      <td>0</td>\n",
       "      <td>1</td>\n",
       "      <td>0</td>\n",
       "      <td>0</td>\n",
       "      <td>0</td>\n",
       "      <td>0</td>\n",
       "    </tr>\n",
       "    <tr>\n",
       "      <th>2</th>\n",
       "      <td>33</td>\n",
       "      <td>1989</td>\n",
       "      <td>0</td>\n",
       "      <td>0</td>\n",
       "      <td>0</td>\n",
       "      <td>0</td>\n",
       "      <td>0</td>\n",
       "      <td>0</td>\n",
       "      <td>0</td>\n",
       "      <td>0</td>\n",
       "      <td>...</td>\n",
       "      <td>0</td>\n",
       "      <td>0</td>\n",
       "      <td>0</td>\n",
       "      <td>0</td>\n",
       "      <td>0</td>\n",
       "      <td>1</td>\n",
       "      <td>0</td>\n",
       "      <td>0</td>\n",
       "      <td>0</td>\n",
       "      <td>0</td>\n",
       "    </tr>\n",
       "    <tr>\n",
       "      <th>3</th>\n",
       "      <td>33</td>\n",
       "      <td>1998</td>\n",
       "      <td>0</td>\n",
       "      <td>0</td>\n",
       "      <td>0</td>\n",
       "      <td>0</td>\n",
       "      <td>0</td>\n",
       "      <td>0</td>\n",
       "      <td>0</td>\n",
       "      <td>0</td>\n",
       "      <td>...</td>\n",
       "      <td>0</td>\n",
       "      <td>0</td>\n",
       "      <td>0</td>\n",
       "      <td>0</td>\n",
       "      <td>0</td>\n",
       "      <td>1</td>\n",
       "      <td>0</td>\n",
       "      <td>0</td>\n",
       "      <td>0</td>\n",
       "      <td>0</td>\n",
       "    </tr>\n",
       "    <tr>\n",
       "      <th>4</th>\n",
       "      <td>44</td>\n",
       "      <td>1999</td>\n",
       "      <td>0</td>\n",
       "      <td>0</td>\n",
       "      <td>0</td>\n",
       "      <td>0</td>\n",
       "      <td>0</td>\n",
       "      <td>0</td>\n",
       "      <td>0</td>\n",
       "      <td>0</td>\n",
       "      <td>...</td>\n",
       "      <td>0</td>\n",
       "      <td>0</td>\n",
       "      <td>0</td>\n",
       "      <td>0</td>\n",
       "      <td>0</td>\n",
       "      <td>1</td>\n",
       "      <td>0</td>\n",
       "      <td>0</td>\n",
       "      <td>0</td>\n",
       "      <td>0</td>\n",
       "    </tr>\n",
       "    <tr>\n",
       "      <th>...</th>\n",
       "      <td>...</td>\n",
       "      <td>...</td>\n",
       "      <td>...</td>\n",
       "      <td>...</td>\n",
       "      <td>...</td>\n",
       "      <td>...</td>\n",
       "      <td>...</td>\n",
       "      <td>...</td>\n",
       "      <td>...</td>\n",
       "      <td>...</td>\n",
       "      <td>...</td>\n",
       "      <td>...</td>\n",
       "      <td>...</td>\n",
       "      <td>...</td>\n",
       "      <td>...</td>\n",
       "      <td>...</td>\n",
       "      <td>...</td>\n",
       "      <td>...</td>\n",
       "      <td>...</td>\n",
       "      <td>...</td>\n",
       "      <td>...</td>\n",
       "    </tr>\n",
       "    <tr>\n",
       "      <th>32790</th>\n",
       "      <td>59</td>\n",
       "      <td>2002</td>\n",
       "      <td>0</td>\n",
       "      <td>0</td>\n",
       "      <td>0</td>\n",
       "      <td>0</td>\n",
       "      <td>0</td>\n",
       "      <td>0</td>\n",
       "      <td>0</td>\n",
       "      <td>0</td>\n",
       "      <td>...</td>\n",
       "      <td>0</td>\n",
       "      <td>0</td>\n",
       "      <td>0</td>\n",
       "      <td>0</td>\n",
       "      <td>0</td>\n",
       "      <td>1</td>\n",
       "      <td>0</td>\n",
       "      <td>0</td>\n",
       "      <td>0</td>\n",
       "      <td>0</td>\n",
       "    </tr>\n",
       "    <tr>\n",
       "      <th>32791</th>\n",
       "      <td>34</td>\n",
       "      <td>1998</td>\n",
       "      <td>0</td>\n",
       "      <td>0</td>\n",
       "      <td>0</td>\n",
       "      <td>0</td>\n",
       "      <td>0</td>\n",
       "      <td>0</td>\n",
       "      <td>0</td>\n",
       "      <td>0</td>\n",
       "      <td>...</td>\n",
       "      <td>0</td>\n",
       "      <td>0</td>\n",
       "      <td>0</td>\n",
       "      <td>0</td>\n",
       "      <td>0</td>\n",
       "      <td>1</td>\n",
       "      <td>0</td>\n",
       "      <td>0</td>\n",
       "      <td>0</td>\n",
       "      <td>0</td>\n",
       "    </tr>\n",
       "    <tr>\n",
       "      <th>32792</th>\n",
       "      <td>25</td>\n",
       "      <td>1996</td>\n",
       "      <td>0</td>\n",
       "      <td>0</td>\n",
       "      <td>0</td>\n",
       "      <td>0</td>\n",
       "      <td>0</td>\n",
       "      <td>0</td>\n",
       "      <td>0</td>\n",
       "      <td>0</td>\n",
       "      <td>...</td>\n",
       "      <td>0</td>\n",
       "      <td>0</td>\n",
       "      <td>0</td>\n",
       "      <td>0</td>\n",
       "      <td>0</td>\n",
       "      <td>1</td>\n",
       "      <td>0</td>\n",
       "      <td>0</td>\n",
       "      <td>0</td>\n",
       "      <td>0</td>\n",
       "    </tr>\n",
       "    <tr>\n",
       "      <th>32793</th>\n",
       "      <td>55</td>\n",
       "      <td>2002</td>\n",
       "      <td>0</td>\n",
       "      <td>0</td>\n",
       "      <td>0</td>\n",
       "      <td>0</td>\n",
       "      <td>0</td>\n",
       "      <td>0</td>\n",
       "      <td>0</td>\n",
       "      <td>0</td>\n",
       "      <td>...</td>\n",
       "      <td>0</td>\n",
       "      <td>0</td>\n",
       "      <td>0</td>\n",
       "      <td>0</td>\n",
       "      <td>0</td>\n",
       "      <td>1</td>\n",
       "      <td>0</td>\n",
       "      <td>0</td>\n",
       "      <td>0</td>\n",
       "      <td>0</td>\n",
       "    </tr>\n",
       "    <tr>\n",
       "      <th>32794</th>\n",
       "      <td>34</td>\n",
       "      <td>1996</td>\n",
       "      <td>0</td>\n",
       "      <td>0</td>\n",
       "      <td>0</td>\n",
       "      <td>0</td>\n",
       "      <td>0</td>\n",
       "      <td>0</td>\n",
       "      <td>0</td>\n",
       "      <td>0</td>\n",
       "      <td>...</td>\n",
       "      <td>0</td>\n",
       "      <td>0</td>\n",
       "      <td>0</td>\n",
       "      <td>0</td>\n",
       "      <td>0</td>\n",
       "      <td>1</td>\n",
       "      <td>0</td>\n",
       "      <td>0</td>\n",
       "      <td>0</td>\n",
       "      <td>0</td>\n",
       "    </tr>\n",
       "  </tbody>\n",
       "</table>\n",
       "<p>32795 rows × 1693 columns</p>\n",
       "</div>"
      ],
      "text/plain": [
       "       age  year_of_publication  book_title_1984  \\\n",
       "0       35                 2002                0   \n",
       "1       34                 2002                0   \n",
       "2       33                 1989                0   \n",
       "3       33                 1998                0   \n",
       "4       44                 1999                0   \n",
       "...    ...                  ...              ...   \n",
       "32790   59                 2002                0   \n",
       "32791   34                 1998                0   \n",
       "32792   25                 1996                0   \n",
       "32793   55                 2002                0   \n",
       "32794   34                 1996                0   \n",
       "\n",
       "       book_title_1st to Die: A Novel  book_title_2nd Chance  \\\n",
       "0                                   0                      0   \n",
       "1                                   0                      0   \n",
       "2                                   0                      0   \n",
       "3                                   0                      0   \n",
       "4                                   0                      0   \n",
       "...                               ...                    ...   \n",
       "32790                               0                      0   \n",
       "32791                               0                      0   \n",
       "32792                               0                      0   \n",
       "32793                               0                      0   \n",
       "32794                               0                      0   \n",
       "\n",
       "       book_title_4 Blondes  \\\n",
       "0                         0   \n",
       "1                         0   \n",
       "2                         0   \n",
       "3                         0   \n",
       "4                         0   \n",
       "...                     ...   \n",
       "32790                     0   \n",
       "32791                     0   \n",
       "32792                     0   \n",
       "32793                     0   \n",
       "32794                     0   \n",
       "\n",
       "       book_title_A Beautiful Mind: The Life of Mathematical Genius and Nobel Laureate John Nash  \\\n",
       "0                                                      0                                           \n",
       "1                                                      0                                           \n",
       "2                                                      0                                           \n",
       "3                                                      0                                           \n",
       "4                                                      0                                           \n",
       "...                                                  ...                                           \n",
       "32790                                                  0                                           \n",
       "32791                                                  0                                           \n",
       "32792                                                  0                                           \n",
       "32793                                                  0                                           \n",
       "32794                                                  0                                           \n",
       "\n",
       "       book_title_A Bend in the Road  book_title_A Case of Need  \\\n",
       "0                                  0                          0   \n",
       "1                                  0                          0   \n",
       "2                                  0                          0   \n",
       "3                                  0                          0   \n",
       "4                                  0                          0   \n",
       "...                              ...                        ...   \n",
       "32790                              0                          0   \n",
       "32791                              0                          0   \n",
       "32792                              0                          0   \n",
       "32793                              0                          0   \n",
       "32794                              0                          0   \n",
       "\n",
       "       book_title_A Child Called \\It\\\": One Child's Courage to Survive\"  ...  \\\n",
       "0                                                      0                 ...   \n",
       "1                                                      0                 ...   \n",
       "2                                                      0                 ...   \n",
       "3                                                      0                 ...   \n",
       "4                                                      0                 ...   \n",
       "...                                                  ...                 ...   \n",
       "32790                                                  0                 ...   \n",
       "32791                                                  0                 ...   \n",
       "32792                                                  0                 ...   \n",
       "32793                                                  0                 ...   \n",
       "32794                                                  0                 ...   \n",
       "\n",
       "       country_united kingdom  country_united state  country_united states  \\\n",
       "0                           0                     0                      0   \n",
       "1                           0                     0                      0   \n",
       "2                           0                     0                      0   \n",
       "3                           0                     0                      0   \n",
       "4                           0                     0                      0   \n",
       "...                       ...                   ...                    ...   \n",
       "32790                       0                     0                      0   \n",
       "32791                       0                     0                      0   \n",
       "32792                       0                     0                      0   \n",
       "32793                       0                     0                      0   \n",
       "32794                       0                     0                      0   \n",
       "\n",
       "       country_universe  country_us  country_usa  country_van wert  \\\n",
       "0                     0           0            1                 0   \n",
       "1                     0           0            1                 0   \n",
       "2                     0           0            1                 0   \n",
       "3                     0           0            1                 0   \n",
       "4                     0           0            1                 0   \n",
       "...                 ...         ...          ...               ...   \n",
       "32790                 0           0            1                 0   \n",
       "32791                 0           0            1                 0   \n",
       "32792                 0           0            1                 0   \n",
       "32793                 0           0            1                 0   \n",
       "32794                 0           0            1                 0   \n",
       "\n",
       "       country_venezuela  country_virginia, usa  country_zapopan, mexico  \n",
       "0                      0                      0                        0  \n",
       "1                      0                      0                        0  \n",
       "2                      0                      0                        0  \n",
       "3                      0                      0                        0  \n",
       "4                      0                      0                        0  \n",
       "...                  ...                    ...                      ...  \n",
       "32790                  0                      0                        0  \n",
       "32791                  0                      0                        0  \n",
       "32792                  0                      0                        0  \n",
       "32793                  0                      0                        0  \n",
       "32794                  0                      0                        0  \n",
       "\n",
       "[32795 rows x 1693 columns]"
      ]
     },
     "execution_count": 20,
     "metadata": {},
     "output_type": "execute_result"
    }
   ],
   "source": [
    "X_test"
   ]
  },
  {
   "cell_type": "markdown",
   "metadata": {},
   "source": [
    "Vamos testar qual o número de camadas que otimiza a classificação. Para isso, façamos uma lista com as porcentagens de acerto:"
   ]
  },
  {
   "cell_type": "code",
   "execution_count": 21,
   "metadata": {},
   "outputs": [],
   "source": [
    "clf = MLPClassifier(\n",
    "    hidden_layer_sizes=(150, 150),\n",
    "    max_iter=500,\n",
    "    activation='relu',\n",
    "    solver='adam',\n",
    "    random_state=1\n",
    ").fit(X_train,Y_train)"
   ]
  },
  {
   "cell_type": "markdown",
   "metadata": {},
   "source": [
    "Testando a precisão do modelo:"
   ]
  },
  {
   "cell_type": "code",
   "execution_count": 23,
   "metadata": {},
   "outputs": [
    {
     "data": {
      "text/plain": [
       "0.593010306835683"
      ]
     },
     "execution_count": 23,
     "metadata": {},
     "output_type": "execute_result"
    }
   ],
   "source": [
    "clf.score(X_train, Y_train)"
   ]
  },
  {
   "cell_type": "markdown",
   "metadata": {},
   "source": [
    "# Construção da Árvore de Decisão:"
   ]
  },
  {
   "cell_type": "code",
   "execution_count": null,
   "metadata": {},
   "outputs": [],
   "source": [
    "from sklearn.model_selection import GridSearchCV\n",
    "from sklearn import tree"
   ]
  },
  {
   "cell_type": "code",
   "execution_count": null,
   "metadata": {},
   "outputs": [],
   "source": [
    "parametros = {'criterion': ['gini', 'entropy'],\n",
    "             'splitter': ['best','random'],\n",
    "             'min_samples_split': [2,5,10],\n",
    "             'min_samples_leaf':[1,5,10]}"
   ]
  },
  {
   "cell_type": "code",
   "execution_count": null,
   "metadata": {},
   "outputs": [],
   "source": [
    "grid_search = GridSearchCV(estimator=DecisionTreeClassifier(), param_grid=parametros)\n",
    "grid_search.fit(X_train, Y_train)"
   ]
  },
  {
   "cell_type": "code",
   "execution_count": null,
   "metadata": {},
   "outputs": [],
   "source": [
    "melhores_parametros = grid_search.best_params_"
   ]
  },
  {
   "cell_type": "code",
   "execution_count": null,
   "metadata": {},
   "outputs": [],
   "source": [
    "tree_books = DecisionTreeClassifier(criterion=\"entropy\", min_samples_leaf = 10, min_samples_split = 5 , splitter = \"random\")"
   ]
  },
  {
   "cell_type": "code",
   "execution_count": null,
   "metadata": {},
   "outputs": [],
   "source": [
    "tree_books.fit(X_train, Y_train)"
   ]
  },
  {
   "cell_type": "code",
   "execution_count": null,
   "metadata": {},
   "outputs": [],
   "source": [
    "melhor_resultado = grid_search.best_score_"
   ]
  },
  {
   "cell_type": "code",
   "execution_count": null,
   "metadata": {},
   "outputs": [],
   "source": [
    "tree_books.score(X_test, Y_test)"
   ]
  },
  {
   "cell_type": "code",
   "execution_count": null,
   "metadata": {},
   "outputs": [],
   "source": [
    "Y_pred = tree_books.predict(X_test)"
   ]
  },
  {
   "cell_type": "code",
   "execution_count": null,
   "metadata": {},
   "outputs": [],
   "source": [
    "Y_pred_train = tree_books.predict(X_train)\n",
    "print(metrics.accuracy_score(Y_train, Y_pred_train))\n",
    "print(metrics.cohen_kappa_score(Y_train, Y_pred_train))"
   ]
  },
  {
   "cell_type": "code",
   "execution_count": null,
   "metadata": {},
   "outputs": [],
   "source": [
    "print(pd.crosstab(Y_train, Y_pred_train, rownames=['Data de teste'], colnames=['Previsão']))"
   ]
  },
  {
   "cell_type": "code",
   "execution_count": null,
   "metadata": {},
   "outputs": [],
   "source": [
    "print(metrics.classification_report(Y_train, Y_pred_train))"
   ]
  },
  {
   "cell_type": "markdown",
   "metadata": {},
   "source": [
    "### Análise dos dados de teste"
   ]
  },
  {
   "cell_type": "code",
   "execution_count": null,
   "metadata": {},
   "outputs": [],
   "source": [
    "print(metrics.accuracy_score(Y_test, Y_pred))\n",
    "print(metrics.cohen_kappa_score(Y_test, Y_pred))"
   ]
  },
  {
   "cell_type": "code",
   "execution_count": null,
   "metadata": {},
   "outputs": [],
   "source": [
    "print(pd.crosstab(Y_test, Y_pred, rownames=['Data de teste'], colnames=['Previsão']))"
   ]
  },
  {
   "cell_type": "code",
   "execution_count": null,
   "metadata": {},
   "outputs": [],
   "source": [
    "print(metrics.classification_report(Y_test, Y_pred))"
   ]
  },
  {
   "cell_type": "markdown",
   "metadata": {},
   "source": [
    "# Construção da Random Forest"
   ]
  },
  {
   "cell_type": "markdown",
   "metadata": {},
   "source": [
    "Importando bibliotecas"
   ]
  },
  {
   "cell_type": "code",
   "execution_count": null,
   "metadata": {},
   "outputs": [],
   "source": [
    "from sklearn.ensemble import RandomForestClassifier\n",
    "from sklearn import metrics"
   ]
  },
  {
   "cell_type": "markdown",
   "metadata": {},
   "source": [
    "Criando classificador e treino"
   ]
  },
  {
   "cell_type": "code",
   "execution_count": null,
   "metadata": {},
   "outputs": [],
   "source": [
    "forest = RandomForestClassifier(n_estimators=100,criterion='entropy',max_features=None)\n",
    "forest.fit(X_train, Y_train)"
   ]
  },
  {
   "cell_type": "markdown",
   "metadata": {},
   "source": [
    "Análise dos dados de treino:"
   ]
  },
  {
   "cell_type": "code",
   "execution_count": null,
   "metadata": {},
   "outputs": [],
   "source": [
    "Y_pred_treino = forest.predict(X_train)\n",
    "print(metrics.accuracy_score(Y_train, Y_pred_treino))\n",
    "print(metrics.cohen_kappa_score(Y_train, Y_pred_treino))"
   ]
  },
  {
   "cell_type": "code",
   "execution_count": null,
   "metadata": {},
   "outputs": [],
   "source": [
    "print(pd.crosstab(Y_train, Y_pred_treino, rownames=['Dados de teste'], colnames=['Previsão']))"
   ]
  },
  {
   "cell_type": "code",
   "execution_count": null,
   "metadata": {},
   "outputs": [],
   "source": [
    "print(metrics.classification_report(Y_train, Y_pred_treino))"
   ]
  },
  {
   "cell_type": "markdown",
   "metadata": {},
   "source": [
    "Análise dos dados de teste:"
   ]
  },
  {
   "cell_type": "code",
   "execution_count": null,
   "metadata": {},
   "outputs": [],
   "source": [
    "Y_pred = forest.predict(X_test)\n",
    "print(metrics.accuracy_score(Y_test, Y_pred))\n",
    "print(metrics.cohen_kappa_score(Y_test, Y_pred))"
   ]
  },
  {
   "cell_type": "code",
   "execution_count": null,
   "metadata": {},
   "outputs": [],
   "source": [
    "print(pd.crosstab(Y_test, Y_pred, rownames=['Dados de teste'], colnames=['Previsão']))"
   ]
  },
  {
   "cell_type": "code",
   "execution_count": null,
   "metadata": {},
   "outputs": [],
   "source": [
    "print(metrics.classification_report(Y_test, Y_pred))"
   ]
  },
  {
   "cell_type": "markdown",
   "metadata": {},
   "source": [
    "Análise da importância de cada atributo"
   ]
  },
  {
   "cell_type": "code",
   "execution_count": null,
   "metadata": {},
   "outputs": [],
   "source": [
    "for i in range(len(X_test.columns)):\n",
    "\tprint(\"A importância do atributo\",(X_test.columns)[i],\" é de \", round(forest.feature_importances_[i] * 100,2),\"%.\")"
   ]
  }
 ],
 "metadata": {
  "kernelspec": {
   "display_name": "Python 3.10.4 64-bit",
   "language": "python",
   "name": "python3"
  },
  "language_info": {
   "codemirror_mode": {
    "name": "ipython",
    "version": 3
   },
   "file_extension": ".py",
   "mimetype": "text/x-python",
   "name": "python",
   "nbconvert_exporter": "python",
   "pygments_lexer": "ipython3",
   "version": "3.10.4"
  },
  "orig_nbformat": 4,
  "vscode": {
   "interpreter": {
    "hash": "369f2c481f4da34e4445cda3fffd2e751bd1c4d706f27375911949ba6bb62e1c"
   }
  }
 },
 "nbformat": 4,
 "nbformat_minor": 2
}
