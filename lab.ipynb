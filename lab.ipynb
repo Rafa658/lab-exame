{
 "cells": [
  {
   "cell_type": "markdown",
   "metadata": {},
   "source": [
    "# Importando Bibliotecas"
   ]
  },
  {
   "cell_type": "code",
   "execution_count": 17,
   "metadata": {},
   "outputs": [],
   "source": [
    "import numpy as np\n",
    "import pandas as pd\n",
    "from sklearn.neural_network import MLPClassifier\n",
    "from sklearn import preprocessing"
   ]
  },
  {
   "cell_type": "markdown",
   "metadata": {},
   "source": [
    "\n",
    "# Inicializando Dataframes"
   ]
  },
  {
   "cell_type": "code",
   "execution_count": 18,
   "metadata": {},
   "outputs": [
    {
     "data": {
      "text/plain": [
       "Index(['Unnamed: 0.1', 'Unnamed: 0', 'user_id', 'age', 'isbn', 'rating',\n",
       "       'book_title', 'book_author', 'year_of_publication', 'publisher',\n",
       "       'img_l', 'Language', 'Category', 'city', 'state', 'country'],\n",
       "      dtype='object')"
      ]
     },
     "execution_count": 18,
     "metadata": {},
     "output_type": "execute_result"
    }
   ],
   "source": [
    "df = pd.read_csv('exame_cmc13_dados_treinamento.csv', sep=';')\n",
    "df.columns"
   ]
  },
  {
   "cell_type": "markdown",
   "metadata": {},
   "source": [
    "# Tratando Dados"
   ]
  },
  {
   "cell_type": "markdown",
   "metadata": {},
   "source": [
    "Vemos campos que não são mencionados e que, provavelmente, se referem apenas a identificações internas dos livros: 'Unnamed: 0.1' e 'Unnamed: 0'. Vamos excluí-los."
   ]
  },
  {
   "cell_type": "code",
   "execution_count": 19,
   "metadata": {},
   "outputs": [],
   "source": [
    "df = df.drop(['Unnamed: 0.1', 'Unnamed: 0'], axis=1)"
   ]
  },
  {
   "cell_type": "markdown",
   "metadata": {},
   "source": [
    "Vamos começar a exluir colunas inúteis para a análise. Em um primeiro momento, podemos excluir as colunas de identificação do usuário:"
   ]
  },
  {
   "cell_type": "code",
   "execution_count": 20,
   "metadata": {},
   "outputs": [],
   "source": [
    "df = df.drop(['user_id'], axis=1)"
   ]
  },
  {
   "cell_type": "markdown",
   "metadata": {},
   "source": [
    "Agora, vamos filtrar as localidades. Para simplificar a análise, contaremos que leitores de um mesmo país têm gostos semelhantes, excluindo a necessidade de identificadores de cidades e estados. Isso também é permitido pelo fato de haver uma variedade de países:"
   ]
  },
  {
   "cell_type": "code",
   "execution_count": 21,
   "metadata": {},
   "outputs": [
    {
     "data": {
      "text/plain": [
       "usa                102798\n",
       "canada              12113\n",
       "united kingdom       2577\n",
       "australia            1631\n",
       "germany              1077\n",
       "                    ...  \n",
       "mozambique              1\n",
       "new jersey, usa         1\n",
       "ontario, canada         1\n",
       "iowa, usa               1\n",
       "haiti                   1\n",
       "Name: country, Length: 187, dtype: int64"
      ]
     },
     "execution_count": 21,
     "metadata": {},
     "output_type": "execute_result"
    }
   ],
   "source": [
    "df['country'].value_counts()"
   ]
  },
  {
   "cell_type": "markdown",
   "metadata": {},
   "source": [
    "Existem 116 países no dataset. Excluindo colunas referentes a localidades:"
   ]
  },
  {
   "cell_type": "code",
   "execution_count": 22,
   "metadata": {},
   "outputs": [],
   "source": [
    "df = df.drop(['city', 'state'], axis=1)"
   ]
  },
  {
   "cell_type": "markdown",
   "metadata": {},
   "source": [
    "Análise da linguagem dos livros:"
   ]
  },
  {
   "cell_type": "code",
   "execution_count": 23,
   "metadata": {},
   "outputs": [
    {
     "data": {
      "text/plain": [
       "en    87209\n",
       "9     43970\n",
       "Name: Language, dtype: int64"
      ]
     },
     "execution_count": 23,
     "metadata": {},
     "output_type": "execute_result"
    }
   ],
   "source": [
    "df['Language'].value_counts()"
   ]
  },
  {
   "cell_type": "markdown",
   "metadata": {},
   "source": [
    "Veja que apenas duas classificações foram categorizadas: en (inglês) e 9 (provavelmente um placeholder ou erro de obtenção de dados). Como a análise desses dois classificadores não nos fornece tanta informação, é razoável excluir tal coluna."
   ]
  },
  {
   "cell_type": "code",
   "execution_count": 24,
   "metadata": {},
   "outputs": [],
   "source": [
    "df = df.drop(['Language'], axis=1)"
   ]
  },
  {
   "cell_type": "markdown",
   "metadata": {},
   "source": [
    "Podemos excluir as colunas 'isbn' porque se refere a uma identificação do livro, redundante com o título, e 'img_l', pois, apesar de a capa certamente ser importante para a escolha de um livro, apenas o link da imagem não adiciona tanto à análise."
   ]
  },
  {
   "cell_type": "code",
   "execution_count": 25,
   "metadata": {},
   "outputs": [],
   "source": [
    "df = df.drop(['isbn', 'img_l'], axis=1)"
   ]
  },
  {
   "cell_type": "markdown",
   "metadata": {},
   "source": [
    "Veja que as colunas de idade e ano de publicação estão sendo tratadas como floats. Convertendo ambas para int:"
   ]
  },
  {
   "cell_type": "code",
   "execution_count": 26,
   "metadata": {},
   "outputs": [],
   "source": [
    "df['age'] = df['age'].astype(int)\n",
    "df['year_of_publication'] = df['year_of_publication'].astype(int)"
   ]
  },
  {
   "cell_type": "markdown",
   "metadata": {},
   "source": [
    "Entretanto, ainda devem existir colunas com valores nulos. Vamos contá-las:"
   ]
  },
  {
   "cell_type": "code",
   "execution_count": 27,
   "metadata": {},
   "outputs": [
    {
     "name": "stdout",
     "output_type": "stream",
     "text": [
      "<class 'pandas.core.frame.DataFrame'>\n",
      "RangeIndex: 131179 entries, 0 to 131178\n",
      "Data columns (total 8 columns):\n",
      " #   Column               Non-Null Count   Dtype \n",
      "---  ------               --------------   ----- \n",
      " 0   age                  131179 non-null  int32 \n",
      " 1   rating               131179 non-null  int64 \n",
      " 2   book_title           131179 non-null  object\n",
      " 3   book_author          131179 non-null  object\n",
      " 4   year_of_publication  131179 non-null  int32 \n",
      " 5   publisher            131179 non-null  object\n",
      " 6   Category             131179 non-null  object\n",
      " 7   country              126615 non-null  object\n",
      "dtypes: int32(2), int64(1), object(5)\n",
      "memory usage: 7.0+ MB\n"
     ]
    }
   ],
   "source": [
    "df.info()"
   ]
  },
  {
   "cell_type": "markdown",
   "metadata": {},
   "source": [
    "Veja que apenas 126615 linhas de 'country' tem valores não nulos, contra 131179 das outras colunas. Como são apenas 4564 de 130000 dados, representando aproximadamente 3% do dataset, podemos excluí-los sem grande perda:"
   ]
  },
  {
   "cell_type": "code",
   "execution_count": 28,
   "metadata": {},
   "outputs": [],
   "source": [
    "df = df.dropna()"
   ]
  },
  {
   "cell_type": "code",
   "execution_count": 29,
   "metadata": {},
   "outputs": [
    {
     "data": {
      "text/plain": [
       "['Fiction']                                                       69639\n",
       "9                                                                 42664\n",
       "['Juvenile Fiction']                                               3220\n",
       "['Biography & Autobiography']                                      2778\n",
       "['Humor']                                                           684\n",
       "['History']                                                         640\n",
       "['Self-Help']                                                       436\n",
       "['Business & Economics']                                            334\n",
       "['FICTION']                                                         316\n",
       "['Nature']                                                          292\n",
       "['Middle West']                                                     244\n",
       "['Family & Relationships']                                          242\n",
       "['Rapture (Christian eschatology)']                                 236\n",
       "['Intelligence service']                                            235\n",
       "['Horror tales']                                                    226\n",
       "['Travel']                                                          224\n",
       "['Political Science']                                               222\n",
       "['British and Irish fiction (Fictional works by one author).']      205\n",
       "['Diary fiction']                                                   171\n",
       "['Health & Fitness']                                                161\n",
       "['London (England)']                                                156\n",
       "['Abortion']                                                        149\n",
       "['African American men']                                            148\n",
       "['Fathers and sons']                                                146\n",
       "['Medical']                                                         143\n",
       "['Adultery']                                                        137\n",
       "['Businessmen']                                                     137\n",
       "['Geishas']                                                         131\n",
       "['California']                                                      130\n",
       "['HISTORY']                                                         122\n",
       "['Americans']                                                       115\n",
       "['Character']                                                       111\n",
       "['Detective and mystery stories']                                   110\n",
       "['True Crime']                                                      108\n",
       "['Artificial intelligence']                                          98\n",
       "['Law']                                                              95\n",
       "['Materia medica']                                                   89\n",
       "['Community colleges']                                               87\n",
       "['Trials (Murder)']                                                  84\n",
       "['Chocolate']                                                        83\n",
       "['Crisis management in government']                                  82\n",
       "['Pets']                                                             82\n",
       "['Literary Collections']                                             81\n",
       "['Interpersonal relations']                                          76\n",
       "['Religion']                                                         75\n",
       "['Arctic regions']                                                   73\n",
       "['Actors']                                                           73\n",
       "['African American women']                                           72\n",
       "['Adulteresses']                                                     71\n",
       "['Conduct of life']                                                  70\n",
       "['Body, Mind & Spirit']                                              64\n",
       "['Dent, Arthur (Fictitious character)']                              64\n",
       "['Cousins']                                                          63\n",
       "['Aircraft accidents']                                               61\n",
       "['Domestic fiction']                                                 60\n",
       "Name: Category, dtype: int64"
      ]
     },
     "execution_count": 29,
     "metadata": {},
     "output_type": "execute_result"
    }
   ],
   "source": [
    "df['Category'].value_counts()"
   ]
  },
  {
   "cell_type": "markdown",
   "metadata": {},
   "source": [
    "# Construção do modelo MLP"
   ]
  },
  {
   "cell_type": "code",
   "execution_count": 30,
   "metadata": {},
   "outputs": [],
   "source": [
    "X_train = df.drop(['rating'], axis = 1)\n",
    "Y_train = df['rating']"
   ]
  },
  {
   "cell_type": "markdown",
   "metadata": {},
   "source": [
    "Encodificando as Strings para que o fit no modelo funcione (strings não têm valor de análise para o SKLearn, por isso precisam ser encodificadas):"
   ]
  },
  {
   "cell_type": "code",
   "execution_count": 31,
   "metadata": {},
   "outputs": [],
   "source": [
    "le = preprocessing.LabelEncoder()\n",
    "for column_name in X_train.columns:\n",
    "    if X_train[column_name].dtype == object:\n",
    "        X_train[column_name] = le.fit_transform(X_train[column_name])\n",
    "    else:\n",
    "        pass"
   ]
  },
  {
   "cell_type": "markdown",
   "metadata": {},
   "source": [
    "Agora, vamos treinar o modelo:"
   ]
  },
  {
   "cell_type": "code",
   "execution_count": 32,
   "metadata": {},
   "outputs": [],
   "source": [
    "clf = MLPClassifier(hidden_layer_sizes = 50, random_state = 1, max_iter = 300).fit(X_train, Y_train)"
   ]
  },
  {
   "cell_type": "markdown",
   "metadata": {},
   "source": [
    "Carregando os dados de teste:"
   ]
  },
  {
   "cell_type": "code",
   "execution_count": 33,
   "metadata": {},
   "outputs": [],
   "source": [
    "df_test = pd.read_csv('exame_cmc13_dados_teste.csv', sep=';')"
   ]
  },
  {
   "cell_type": "markdown",
   "metadata": {},
   "source": [
    "Aplicando o mesmo tratamento feito aos dados de treino:"
   ]
  },
  {
   "cell_type": "code",
   "execution_count": 34,
   "metadata": {},
   "outputs": [],
   "source": [
    "df_test = df_test.drop(['Unnamed: 0.1', 'Unnamed: 0', 'user_id', 'city', 'state', 'Language', 'isbn', 'img_l'], axis=1)\n",
    "df_test['age'] = df_test['age'].astype(int)\n",
    "df_test['year_of_publication'] = df_test['year_of_publication'].astype(int)\n",
    "\n",
    "X_test = df_test.drop(['rating'], axis = 1)\n",
    "Y_test = df_test['rating']\n",
    "\n",
    "for column_name in X_test.columns:\n",
    "    if X_test[column_name].dtype == object:\n",
    "        X_test[column_name] = le.fit_transform(X_test[column_name])\n",
    "    else:\n",
    "        pass"
   ]
  },
  {
   "cell_type": "markdown",
   "metadata": {},
   "source": [
    "Testando a eficácia do modelo projetado:"
   ]
  },
  {
   "cell_type": "code",
   "execution_count": 35,
   "metadata": {},
   "outputs": [
    {
     "data": {
      "text/plain": [
       "0.06930934593688062"
      ]
     },
     "execution_count": 35,
     "metadata": {},
     "output_type": "execute_result"
    }
   ],
   "source": [
    "clf.score(X_test, Y_test)"
   ]
  },
  {
   "cell_type": "markdown",
   "metadata": {},
   "source": [
    "Vamos testar qual o número de camadas que otimiza a classificação. Para isso, façamos uma lista com as porcentagens de acerto:"
   ]
  },
  {
   "cell_type": "code",
   "execution_count": 36,
   "metadata": {},
   "outputs": [],
   "source": [
    "score = []\n",
    "\n",
    "for i in range(1, 101):\n",
    "    clf = MLPClassifier(hidden_layer_sizes = i, random_state = 1, max_iter = 300).fit(X_train, Y_train)\n",
    "    score.append(clf.score(X_test, Y_test))"
   ]
  },
  {
   "cell_type": "code",
   "execution_count": 37,
   "metadata": {},
   "outputs": [
    {
     "name": "stdout",
     "output_type": "stream",
     "text": [
      "A quantidade de camadas que retorna a maior acurácia é 1 , com precisão 0.5926706946254393\n"
     ]
    }
   ],
   "source": [
    "index_max = max(range(len(score)), key=score.__getitem__)\n",
    "print('A quantidade de camadas que retorna a maior acurácia é', index_max+1,', com precisão', score[index_max])"
   ]
  },
  {
   "cell_type": "markdown",
   "metadata": {},
   "source": [
    "Finalmente, façamos o modelo com maior precisão:"
   ]
  },
  {
   "cell_type": "code",
   "execution_count": 38,
   "metadata": {},
   "outputs": [
    {
     "data": {
      "text/plain": [
       "0.5897240432992834"
      ]
     },
     "execution_count": 38,
     "metadata": {},
     "output_type": "execute_result"
    }
   ],
   "source": [
    "clf = MLPClassifier(hidden_layer_sizes = 18, random_state = 1, max_iter = 300).fit(X_train, Y_train)\n",
    "clf.score(X_test, Y_test)"
   ]
  }
 ],
 "metadata": {
  "kernelspec": {
   "display_name": "Python 3.10.4 64-bit",
   "language": "python",
   "name": "python3"
  },
  "language_info": {
   "codemirror_mode": {
    "name": "ipython",
    "version": 3
   },
   "file_extension": ".py",
   "mimetype": "text/x-python",
   "name": "python",
   "nbconvert_exporter": "python",
   "pygments_lexer": "ipython3",
   "version": "3.10.4"
  },
  "orig_nbformat": 4,
  "vscode": {
   "interpreter": {
    "hash": "369f2c481f4da34e4445cda3fffd2e751bd1c4d706f27375911949ba6bb62e1c"
   }
  }
 },
 "nbformat": 4,
 "nbformat_minor": 2
}
